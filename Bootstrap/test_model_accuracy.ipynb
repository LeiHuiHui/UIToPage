{
 "cells": [
  {
   "cell_type": "code",
   "execution_count": 35,
   "metadata": {},
   "outputs": [],
   "source": [
    "from os import listdir\n",
    "from keras.models import model_from_json\n",
    "from keras.preprocessing.text import Tokenizer\n",
    "from keras.preprocessing.sequence import pad_sequences\n",
    "from nltk.translate.bleu_score import sentence_bleu\n",
    "from nltk.translate.bleu_score import corpus_bleu\n",
    "from tqdm import tqdm\n",
    "import numpy as np\n",
    "import h5py as h5py\n",
    "from compiler.classes.Compiler import *\n",
    "import shutil\n",
    "import os\n",
    "os.environ[\"CUDA_DEVICE_ORDER\"] = \"PCI_BUS_ID\"\n",
    "os.environ['CUDA_VISIBLE_DEVICES'] = \"0\"  # 限制只使用GPU 0"
   ]
  },
  {
   "cell_type": "code",
   "execution_count": 36,
   "metadata": {},
   "outputs": [],
   "source": [
    "# Read a file and return a string\n",
    "def load_doc(filename):\n",
    "    file = open(filename, 'r')\n",
    "    text = file.read()\n",
    "    file.close()\n",
    "    return text\n",
    "\n",
    "\n",
    "def get_preprocessed_img(img_path, image_size):\n",
    "        import cv2\n",
    "        img = cv2.imread(img_path)\n",
    "        img = cv2.resize(img, (image_size, image_size))\n",
    "        img = img.astype('float32')\n",
    "        img /= 255\n",
    "        return img\n",
    "\n",
    "\n",
    "def load_data(data_dir):\n",
    "    text = []\n",
    "    images = []\n",
    "    # Load all the files and order them\n",
    "    all_filenames = listdir(data_dir)\n",
    "    all_filenames.sort()\n",
    "    print(all_filenames)\n",
    "    for filename in (all_filenames)[0:]:\n",
    "        if filename.find(\".png\") != -1:\n",
    "            img = get_preprocessed_img(\"{}/{}\".format(data_dir, filename), 256)\n",
    "            # file_name = filename[:filename.find(\".png\")]\n",
    "            # np.savez_compressed(\"{}/{}\".format(data_dir, file_name), features=img)\n",
    "            # retrieve = np.load(\"{}/{}.npz\".format(data_dir, file_name))[\"features\"]\n",
    "            # assert np.array_equal(img, retrieve)\n",
    "            # shutil.copyfile(\"{}/{}.gui\".format(data_dir, file_name), \"{}/{}.gui\".format(output_path, file_name))\n",
    "            images.append(img)\n",
    "        elif filename[-3:] == \"npz\":\n",
    "            # Load the images already prepared in arrays\n",
    "            image = np.load(data_dir+filename)\n",
    "            images.append(image['features'])\n",
    "        else:\n",
    "            # Load the boostrap tokens and rap them in a start and end tag\n",
    "            syntax = '<START> ' + load_doc(data_dir+filename) + ' <END>'\n",
    "            # Seperate all the words with a single space\n",
    "            syntax = ' '.join(syntax.split())\n",
    "            # Add a space after each comma\n",
    "            syntax = syntax.replace(',', ' ,')\n",
    "            text.append(syntax)\n",
    "    images = np.array(images, dtype=float)\n",
    "    return images, text"
   ]
  },
  {
   "cell_type": "code",
   "execution_count": 37,
   "metadata": {},
   "outputs": [],
   "source": [
    "# Initialize the function to create the vocabulary \n",
    "tokenizer = Tokenizer(filters='', split=\" \", lower=False)\n",
    "# Create the vocabulary \n",
    "tokenizer.fit_on_texts([load_doc('resources/bootstrap.vocab')])"
   ]
  },
  {
   "cell_type": "code",
   "execution_count": 38,
   "metadata": {
    "collapsed": true
   },
   "outputs": [
    {
     "name": "stdout",
     "output_type": "stream",
     "text": [
      "['00150311-A7AE-4804-8B7D-9273687B4FC0.gui', '00150311-A7AE-4804-8B7D-9273687B4FC0.npz', '00190F39-0DE9-47EB-B0C2-856FDD3ACE62.gui', '00190F39-0DE9-47EB-B0C2-856FDD3ACE62.npz', '00CDC9A8-3D73-4291-90EF-49178E408797.gui', '00CDC9A8-3D73-4291-90EF-49178E408797.npz', '020BDFEE-DA74-4EB0-BF6A-5D29C371983E.gui', '020BDFEE-DA74-4EB0-BF6A-5D29C371983E.npz', '022B62A5-5FFC-4CC9-B10F-0EF1E3E04367.gui', '022B62A5-5FFC-4CC9-B10F-0EF1E3E04367.npz', '02AC4408-AC50-4ADE-9AB0-10479A69987F.gui', '02AC4408-AC50-4ADE-9AB0-10479A69987F.npz', '03428AC1-EC38-424D-97E2-D063F1578F4F.gui', '03428AC1-EC38-424D-97E2-D063F1578F4F.npz', '03D5D298-8F87-4DED-AF85-7E7CC2D40924.gui', '03D5D298-8F87-4DED-AF85-7E7CC2D40924.npz', '0566F61B-9B69-4A36-B868-3BDB4FB19CB8.gui', '0566F61B-9B69-4A36-B868-3BDB4FB19CB8.npz', '05E08DEE-21EA-4612-9424-17B52F6D2DC0.gui', '05E08DEE-21EA-4612-9424-17B52F6D2DC0.npz', '076292E2-ABB7-401F-9C93-B72EE17CF54E.gui', '076292E2-ABB7-401F-9C93-B72EE17CF54E.npz', '097BCAB5-B471-48F7-A32A-591A9AA3EF75.gui', '097BCAB5-B471-48F7-A32A-591A9AA3EF75.npz', '0BA2A4B4-4193-4506-8818-31564225EF8B.gui', '0BA2A4B4-4193-4506-8818-31564225EF8B.npz', '0CC0512B-11C5-481C-BC81-534F1FC9EC0A.gui', '0CC0512B-11C5-481C-BC81-534F1FC9EC0A.npz', '0D1C8ADB-D9F0-48EC-B5AA-205BCF96094E.gui', '0D1C8ADB-D9F0-48EC-B5AA-205BCF96094E.npz', '0FBAB0B3-24CB-42EF-8803-BFDEB8C3EFDC.gui', '0FBAB0B3-24CB-42EF-8803-BFDEB8C3EFDC.npz', '1371E64F-48F5-4CF9-9714-BD198F556C25.gui', '1371E64F-48F5-4CF9-9714-BD198F556C25.npz', '1378B3C8-1E8E-4D99-8361-D6AEBA772A03.gui', '1378B3C8-1E8E-4D99-8361-D6AEBA772A03.npz', '138C462D-CB33-42EA-B824-3EFC85D813E0.gui', '138C462D-CB33-42EA-B824-3EFC85D813E0.npz', '13C16FB5-D132-4D8C-B8BF-4B61EAEC36A6.gui', '13C16FB5-D132-4D8C-B8BF-4B61EAEC36A6.npz', '13DEFBAF-8269-471B-8F5E-A0729B792D72.gui', '13DEFBAF-8269-471B-8F5E-A0729B792D72.npz', '14402E15-E092-4501-965E-B10C7BBD6C0E.gui', '14402E15-E092-4501-965E-B10C7BBD6C0E.npz', '14429972-10A2-4622-BA23-4A8C5F4FDA97.gui', '14429972-10A2-4622-BA23-4A8C5F4FDA97.npz', '151E02ED-452D-43EF-A547-5BA53DB493AA.gui', '151E02ED-452D-43EF-A547-5BA53DB493AA.npz', '17441C16-6671-4478-B793-671F3926BE69.gui', '17441C16-6671-4478-B793-671F3926BE69.npz', '185155FE-31A6-4162-98FA-3DBB9D243819.gui', '185155FE-31A6-4162-98FA-3DBB9D243819.npz', '1878FBE3-AED7-4408-852B-D8F4DDA3851D.gui', '1878FBE3-AED7-4408-852B-D8F4DDA3851D.npz', '18D71F38-3353-4019-B224-21DB6462568C.gui', '18D71F38-3353-4019-B224-21DB6462568C.npz', '1918E602-6EAF-4471-AFB9-4C648A35A952.gui', '1918E602-6EAF-4471-AFB9-4C648A35A952.npz', '1995EC8A-7971-49B8-8FB3-B2F0563E6414.gui', '1995EC8A-7971-49B8-8FB3-B2F0563E6414.npz', '1A5D96CE-F23A-4EB5-84BF-F6F2A3B6D185.gui', '1A5D96CE-F23A-4EB5-84BF-F6F2A3B6D185.npz', '1D70C31F-C198-4159-8388-18CB2BDA15D6.gui', '1D70C31F-C198-4159-8388-18CB2BDA15D6.npz', '1EA2A9DA-E8A6-4011-9841-A7758E979F77.gui', '1EA2A9DA-E8A6-4011-9841-A7758E979F77.npz', '1F4D3508-2479-4D8A-B5F0-92CF690BD1AE.gui', '1F4D3508-2479-4D8A-B5F0-92CF690BD1AE.npz', '1FA12698-2EA0-45D0-A40D-A7DF1D903036.gui', '1FA12698-2EA0-45D0-A40D-A7DF1D903036.npz', '2013AF59-F3F5-422B-8F5B-2EDF09CC3493.gui', '2013AF59-F3F5-422B-8F5B-2EDF09CC3493.npz', '2074F9FA-57D6-4C5B-A088-E5C57AFB1A92.gui', '2074F9FA-57D6-4C5B-A088-E5C57AFB1A92.npz', '20A1A20E-53F2-44D1-94F9-BD1ADC33C0F2.gui', '20A1A20E-53F2-44D1-94F9-BD1ADC33C0F2.npz', '234BAE99-9622-41C2-B9B1-8CD9B69C92D5.gui', '234BAE99-9622-41C2-B9B1-8CD9B69C92D5.npz', '241CD27C-2540-4935-9CA7-22AF17A9509A.gui', '241CD27C-2540-4935-9CA7-22AF17A9509A.npz', '26B333D2-4A5A-42CA-88A6-78080AC5D87E.gui', '26B333D2-4A5A-42CA-88A6-78080AC5D87E.npz', '275F1FDD-4977-4AC2-837E-022E7E13F982.gui', '275F1FDD-4977-4AC2-837E-022E7E13F982.npz', '278C4CEE-210B-437A-BE5F-49872500D87E.gui', '278C4CEE-210B-437A-BE5F-49872500D87E.npz', '28715A0B-7D22-4F5E-9FC1-34A00BC1137E.gui', '28715A0B-7D22-4F5E-9FC1-34A00BC1137E.npz', '28C6FDDB-1387-4E1F-9A73-10B9CD40D566.gui', '28C6FDDB-1387-4E1F-9A73-10B9CD40D566.npz', '28CBBE62-59AC-418A-8BB7-17BB18B64D49.gui', '28CBBE62-59AC-418A-8BB7-17BB18B64D49.npz', '290CCD36-E00F-4B3E-8C8A-7BD0BAE6B469.gui', '290CCD36-E00F-4B3E-8C8A-7BD0BAE6B469.npz', '296628FB-668C-4EE3-BDA5-D28554A843C7.gui', '296628FB-668C-4EE3-BDA5-D28554A843C7.npz', '297A7B9E-1F0E-481F-B625-307F6E36A0B5.gui', '297A7B9E-1F0E-481F-B625-307F6E36A0B5.npz', '297CC274-9687-4D91-80C2-C7D827903FBD.gui', '297CC274-9687-4D91-80C2-C7D827903FBD.npz', '29D7101C-5B6B-4192-A8CD-1FCD463E6500.gui', '29D7101C-5B6B-4192-A8CD-1FCD463E6500.npz', '2AD03204-6FF3-46AD-8D28-28219BD390D1.gui', '2AD03204-6FF3-46AD-8D28-28219BD390D1.npz', '2B286BD0-9522-4EE1-A7FB-5C13B47D1DBE.gui', '2B286BD0-9522-4EE1-A7FB-5C13B47D1DBE.npz', '2C623CF1-7B94-4258-8603-ED67E8DABDF3.gui', '2C623CF1-7B94-4258-8603-ED67E8DABDF3.npz', '2E2520D4-A7F2-4086-8773-7F8F3A110161.gui', '2E2520D4-A7F2-4086-8773-7F8F3A110161.npz', '2EB3E321-FC4E-45C3-B6D2-E464D8719567.gui', '2EB3E321-FC4E-45C3-B6D2-E464D8719567.npz', '2F2D4EC2-25A5-4AEE-BD36-BFBE00327BD2.gui', '2F2D4EC2-25A5-4AEE-BD36-BFBE00327BD2.npz', '2F3F9469-1669-4469-8FE1-21A2492E0570.gui', '2F3F9469-1669-4469-8FE1-21A2492E0570.npz', '30EEFC5A-7BAC-43BC-9DD0-F47A32F42195.gui', '30EEFC5A-7BAC-43BC-9DD0-F47A32F42195.npz', '322EEBB1-5E4B-4F7D-9534-EB371510C8C8.gui', '322EEBB1-5E4B-4F7D-9534-EB371510C8C8.npz', '33815746-55FC-47F6-BC76-55A45AD162D2.gui', '33815746-55FC-47F6-BC76-55A45AD162D2.npz', '348FC6D0-0E57-4DE7-AEF9-A5CE930F7DD0.gui', '348FC6D0-0E57-4DE7-AEF9-A5CE930F7DD0.npz', '360904AB-E2FD-45A6-8F11-F23EFDF45E49.gui', '360904AB-E2FD-45A6-8F11-F23EFDF45E49.npz', '389EFD08-5454-4B00-9B49-9F34802909C7.gui', '389EFD08-5454-4B00-9B49-9F34802909C7.npz', '395F4B07-3D3A-4968-A116-C126731654EA.gui', '395F4B07-3D3A-4968-A116-C126731654EA.npz', '3A43C54D-DC60-4F7E-8817-AC252764180C.gui', '3A43C54D-DC60-4F7E-8817-AC252764180C.npz', '3B128ED4-83DE-4569-A70B-984829C39103.gui', '3B128ED4-83DE-4569-A70B-984829C39103.npz', '3B66DC46-53FF-469C-90E5-8BE0DBA19CE2.gui', '3B66DC46-53FF-469C-90E5-8BE0DBA19CE2.npz', '3BC6C27E-A9C1-4040-963F-B863E99938B5.gui', '3BC6C27E-A9C1-4040-963F-B863E99938B5.npz', '3CC3E0EC-8AE1-4673-914C-65C439C448F8.gui', '3CC3E0EC-8AE1-4673-914C-65C439C448F8.npz', '3D3C6079-7F28-4527-8AD9-9E8EDD2CB862.gui', '3D3C6079-7F28-4527-8AD9-9E8EDD2CB862.npz', '3FFBB381-17C9-4078-B038-E2CA2F200BA7.gui', '3FFBB381-17C9-4078-B038-E2CA2F200BA7.npz', '41B90365-F787-484D-B2E7-1FE1F050C863.gui', '41B90365-F787-484D-B2E7-1FE1F050C863.npz', '42F63844-4851-4D4E-85CD-19D9B03E5E67.gui', '42F63844-4851-4D4E-85CD-19D9B03E5E67.npz', '438D6CAA-B825-4EA1-BDE4-A8D53D3E1947.gui', '438D6CAA-B825-4EA1-BDE4-A8D53D3E1947.npz', '46308B29-D145-4269-8002-9A7AC486333C.gui', '46308B29-D145-4269-8002-9A7AC486333C.npz', '469C4AD7-A487-4320-BCFA-1C22BAF3C47B.gui', '469C4AD7-A487-4320-BCFA-1C22BAF3C47B.npz', '49ECB397-D1C3-4EB3-898F-A945B52A42E8.gui', '49ECB397-D1C3-4EB3-898F-A945B52A42E8.npz', '49F09C96-8037-4396-9183-4A67EF8F8AD1.gui', '49F09C96-8037-4396-9183-4A67EF8F8AD1.npz', '4B12C02E-E854-41C3-B66E-06887B1505CB.gui', '4B12C02E-E854-41C3-B66E-06887B1505CB.npz', '4D35C86E-AC1E-49CF-B0B1-99EA00657FA5.gui', '4D35C86E-AC1E-49CF-B0B1-99EA00657FA5.npz', '4E532EC8-4DF5-4731-9BE9-21ECF6FA171B.gui', '4E532EC8-4DF5-4731-9BE9-21ECF6FA171B.npz', '4F146C72-1B3D-44B5-B623-9F141BD76949.gui', '4F146C72-1B3D-44B5-B623-9F141BD76949.npz', '4F8424BF-C7B7-43DC-B590-A899D66F32A8.gui', '4F8424BF-C7B7-43DC-B590-A899D66F32A8.npz', '501B6A70-83C9-46FD-B48D-D3AB6908B1FB.gui', '501B6A70-83C9-46FD-B48D-D3AB6908B1FB.npz', '50C92209-8D71-4432-911C-C15E20A1DC54.gui', '50C92209-8D71-4432-911C-C15E20A1DC54.npz', '50E780A1-31FE-48A0-B77A-18CA43165704.gui', '50E780A1-31FE-48A0-B77A-18CA43165704.npz', '5398ED3F-CCC3-4D8D-8380-1F46F0FB2ED5.gui', '5398ED3F-CCC3-4D8D-8380-1F46F0FB2ED5.npz', '54BBB984-B3E7-40CC-8008-D93F35D7B04A.gui', '54BBB984-B3E7-40CC-8008-D93F35D7B04A.npz', '54F8B4FE-5D4D-4CE6-A088-414AEDCD0863.gui', '54F8B4FE-5D4D-4CE6-A088-414AEDCD0863.npz', '5500FB8F-9205-48C7-AE0C-CA691320566B.gui', '5500FB8F-9205-48C7-AE0C-CA691320566B.npz', '55D5AFD8-EE9F-4010-A3B4-9F357E9C8DAB.gui', '55D5AFD8-EE9F-4010-A3B4-9F357E9C8DAB.npz', '56D938B4-C281-42BD-BE09-C9D887697DE3.gui', '56D938B4-C281-42BD-BE09-C9D887697DE3.npz', '5908DD7C-2230-4000-A8DB-6A1D892AF336.gui', '5908DD7C-2230-4000-A8DB-6A1D892AF336.npz', '590FC811-6C32-4120-BA63-1DC423A8C415.gui', '590FC811-6C32-4120-BA63-1DC423A8C415.npz', '59B99BC1-A8BB-4D3B-B011-DDFFFF82B546.gui', '59B99BC1-A8BB-4D3B-B011-DDFFFF82B546.npz', '5AAA1791-7970-4EE0-891B-2898CBE15C51.gui', '5AAA1791-7970-4EE0-891B-2898CBE15C51.npz', '5CD905AB-F521-4284-9E3F-5AA8B29CE258.gui', '5CD905AB-F521-4284-9E3F-5AA8B29CE258.npz', '5F1842D3-8DE0-48A7-A43B-C961BF2AED38.gui', '5F1842D3-8DE0-48A7-A43B-C961BF2AED38.npz', '5FA9CFC5-3653-4DAB-9C1C-CB023A348693.gui', '5FA9CFC5-3653-4DAB-9C1C-CB023A348693.npz', '5FED1C65-5A64-4273-A57D-C74DB4E4E33C.gui', '5FED1C65-5A64-4273-A57D-C74DB4E4E33C.npz', '631A35C2-6608-4F70-87E5-49481BBADC42.gui', '631A35C2-6608-4F70-87E5-49481BBADC42.npz', '632E94A0-28B3-464A-89E9-BCCD189885D6.gui', '632E94A0-28B3-464A-89E9-BCCD189885D6.npz', '635FFD13-08BF-4B31-8494-D0DD3F80C5D4.gui', '635FFD13-08BF-4B31-8494-D0DD3F80C5D4.npz', '6471718A-DB30-4B90-85AE-B78DA7722C8F.gui', '6471718A-DB30-4B90-85AE-B78DA7722C8F.npz', '649309DF-5F1C-4DCD-8826-D152401BE437.gui', '649309DF-5F1C-4DCD-8826-D152401BE437.npz', '65B241A2-FB62-456A-BF96-BEAE79F3D6C0.gui', '65B241A2-FB62-456A-BF96-BEAE79F3D6C0.npz', '68C6D0E2-6F42-4859-895D-2866B7F19F57.gui', '68C6D0E2-6F42-4859-895D-2866B7F19F57.npz', '6BA03957-674D-4B75-A4EC-FF996544AD75.gui', '6BA03957-674D-4B75-A4EC-FF996544AD75.npz', '7102A4BE-3AB9-47F5-A2A7-58D37FAC59C3.gui', '7102A4BE-3AB9-47F5-A2A7-58D37FAC59C3.npz', '71834BFC-62FD-4601-BB36-1C7B80F31832.gui', '71834BFC-62FD-4601-BB36-1C7B80F31832.npz', '7193D407-8FE8-4580-B7DD-E8472E4126D0.gui', '7193D407-8FE8-4580-B7DD-E8472E4126D0.npz', '7322E82F-E47F-49D3-B5C7-E7E49D8EBD38.gui', '7322E82F-E47F-49D3-B5C7-E7E49D8EBD38.npz', '744B8F8F-294C-473F-883F-67199570232E.gui', '744B8F8F-294C-473F-883F-67199570232E.npz', '747C2F4E-A98D-4AD9-941D-24ADB7F35ECB.gui', '747C2F4E-A98D-4AD9-941D-24ADB7F35ECB.npz', '74E5489C-7C59-4E0E-901F-16F2051853EC.gui', '74E5489C-7C59-4E0E-901F-16F2051853EC.npz', '763F5322-DAD2-4BEB-B7BE-A044340C55AF.gui', '763F5322-DAD2-4BEB-B7BE-A044340C55AF.npz', '766FEEAF-4249-4034-B832-362407C08ACE.gui', '766FEEAF-4249-4034-B832-362407C08ACE.npz', '76AF1956-B92D-40A9-9A3C-8019AF676063.gui', '76AF1956-B92D-40A9-9A3C-8019AF676063.npz', '775AD0A5-EE72-4F6E-91A6-4F4594B435CF.gui', '775AD0A5-EE72-4F6E-91A6-4F4594B435CF.npz', '781CA7C0-3257-4B4B-BAFF-09BA34F28D93.gui', '781CA7C0-3257-4B4B-BAFF-09BA34F28D93.npz', '7A307288-ABC1-40E3-AA0B-939F5812111C.gui', '7A307288-ABC1-40E3-AA0B-939F5812111C.npz', '7A34A165-84F7-4FC0-B77B-05927E3695A3.gui', '7A34A165-84F7-4FC0-B77B-05927E3695A3.npz', '7D25762F-3AE5-4B7C-8DC3-3BB019FA7DA1.gui', '7D25762F-3AE5-4B7C-8DC3-3BB019FA7DA1.npz', '7D9995CC-74DB-4725-9871-6FAC2410242E.gui', '7D9995CC-74DB-4725-9871-6FAC2410242E.npz', '7DB70CF7-EE4A-42FD-B5C2-AF5ACA7D7473.gui', '7DB70CF7-EE4A-42FD-B5C2-AF5ACA7D7473.npz', '7EAF74DE-03CA-4BD3-A704-F06D824D8B9F.gui', '7EAF74DE-03CA-4BD3-A704-F06D824D8B9F.npz', '7EEF813A-8FEB-489F-AEF6-2C72BC322092.gui', '7EEF813A-8FEB-489F-AEF6-2C72BC322092.npz', '7F80CE37-09ED-42FC-9EA1-73C6872A53CF.gui', '7F80CE37-09ED-42FC-9EA1-73C6872A53CF.npz', '80DC302B-5E6B-4908-B1A8-05E28F0AFEAA.gui', '80DC302B-5E6B-4908-B1A8-05E28F0AFEAA.npz', '816D827D-2D0B-4A9A-B3B8-70220B207340.gui', '816D827D-2D0B-4A9A-B3B8-70220B207340.npz', '82734013-A5BA-4160-AFD2-5A6BBAA2ED85.gui', '82734013-A5BA-4160-AFD2-5A6BBAA2ED85.npz', '83EA27CF-4F0C-4C5D-85C6-108FF9F201AD.gui', '83EA27CF-4F0C-4C5D-85C6-108FF9F201AD.npz', '83EBDBE5-DA73-46AE-8B44-3B1516639FC2.gui', '83EBDBE5-DA73-46AE-8B44-3B1516639FC2.npz', '8637C7B8-0028-43F8-87A2-1251A0A6AD1B.gui', '8637C7B8-0028-43F8-87A2-1251A0A6AD1B.npz', '866582D3-EB2C-453E-B988-E67A8067BD0A.gui', '866582D3-EB2C-453E-B988-E67A8067BD0A.npz', '8854E3BA-FA97-4091-A85D-EC5929436A54.gui', '8854E3BA-FA97-4091-A85D-EC5929436A54.npz', '88E1A5E7-7AE4-4DEF-8687-CB5426CA9FBA.gui', '88E1A5E7-7AE4-4DEF-8687-CB5426CA9FBA.npz', '891C8311-6939-4665-B139-09AC75D0AAA4.gui', '891C8311-6939-4665-B139-09AC75D0AAA4.npz', '894F90E2-A93E-4A8D-8AF6-351A4AA6DD21.gui', '894F90E2-A93E-4A8D-8AF6-351A4AA6DD21.npz', '89CF2DEF-FE12-45A5-B700-374F5ECFB709.gui', '89CF2DEF-FE12-45A5-B700-374F5ECFB709.npz', '8ACEAAF8-38CC-4C49-911C-DB74BA8A3B07.gui', '8ACEAAF8-38CC-4C49-911C-DB74BA8A3B07.npz', '8D0E9D81-D7FA-447F-8AEB-E38B1330E2B9.gui', '8D0E9D81-D7FA-447F-8AEB-E38B1330E2B9.npz', '8E6A58C9-7AE4-4666-9812-83E412899367.gui', '8E6A58C9-7AE4-4666-9812-83E412899367.npz', '8F204325-E248-4485-936F-E144ADFF148B.gui', '8F204325-E248-4485-936F-E144ADFF148B.npz', '8F8900B4-65CC-4FB7-B576-A9202A4B8CEA.gui', '8F8900B4-65CC-4FB7-B576-A9202A4B8CEA.npz', '8FB934E0-9C48-43F1-964A-7F3F2FD10D9E.gui', '8FB934E0-9C48-43F1-964A-7F3F2FD10D9E.npz', '9251810B-C0F2-4575-943B-2388B779DE81.gui', '9251810B-C0F2-4575-943B-2388B779DE81.npz', '93010B40-2034-40B7-8543-228964153459.gui', '93010B40-2034-40B7-8543-228964153459.npz', '9563CB87-4E04-4CB0-8EA8-9B25AB511709.gui', '9563CB87-4E04-4CB0-8EA8-9B25AB511709.npz', '980F87B0-4D6E-404D-9477-CCD5F77C1757.gui', '980F87B0-4D6E-404D-9477-CCD5F77C1757.npz', '99720969-917D-4843-BB69-D09AF953F258.gui', '99720969-917D-4843-BB69-D09AF953F258.npz', '99C6712C-0346-4A5C-BADB-1C7E820F18D7.gui', '99C6712C-0346-4A5C-BADB-1C7E820F18D7.npz', '99C6E82F-1091-43A9-8F30-2F91ED18F275.gui', '99C6E82F-1091-43A9-8F30-2F91ED18F275.npz', '9B0DC18C-A468-42BC-B112-D4ED55D9D711.gui', '9B0DC18C-A468-42BC-B112-D4ED55D9D711.npz', '9B2F4DC6-105A-43EE-87D5-63DBB44F3F20.gui', '9B2F4DC6-105A-43EE-87D5-63DBB44F3F20.npz', '9C0534F9-8881-4B0A-B864-1CFB78976AFB.gui', '9C0534F9-8881-4B0A-B864-1CFB78976AFB.npz', '9C084C45-167D-4BCC-B862-93CFC2794B82.gui', '9C084C45-167D-4BCC-B862-93CFC2794B82.npz', '9C6E0543-9D7C-4907-A8A1-EDE9018B1DA1.gui', '9C6E0543-9D7C-4907-A8A1-EDE9018B1DA1.npz', '9D34492A-8C6C-49BE-B90C-CBDD2B5B79F8.gui', '9D34492A-8C6C-49BE-B90C-CBDD2B5B79F8.npz', 'A10687A7-4CBB-4388-B27B-7F862FA40C8A.gui', 'A10687A7-4CBB-4388-B27B-7F862FA40C8A.npz', 'A1377391-5C90-4D62-912F-22A2722DFD63.gui', 'A1377391-5C90-4D62-912F-22A2722DFD63.npz', 'A1E9A76E-B19F-40B3-8D01-48BBCC218BB6.gui', 'A1E9A76E-B19F-40B3-8D01-48BBCC218BB6.npz', 'A2B72FC2-F5D9-419B-94C6-FE744A03CCF3.gui', 'A2B72FC2-F5D9-419B-94C6-FE744A03CCF3.npz', 'A30E9981-24C1-4A69-B338-EE6BD5392458.gui', 'A30E9981-24C1-4A69-B338-EE6BD5392458.npz', 'A354F921-9E57-488F-A3A6-B5D1D53C50BA.gui', 'A354F921-9E57-488F-A3A6-B5D1D53C50BA.npz', 'A7BFE52B-25C7-4A61-BFAC-57AF7A6E3BBC.gui', 'A7BFE52B-25C7-4A61-BFAC-57AF7A6E3BBC.npz', 'A83FB08E-5E76-48BF-9375-D4475D63686E.gui', 'A83FB08E-5E76-48BF-9375-D4475D63686E.npz', 'A8A1127F-1CD3-41AE-9294-27405804AC3C.gui', 'A8A1127F-1CD3-41AE-9294-27405804AC3C.npz', 'A904207C-6073-400C-B394-87CE3F8DE256.gui', 'A904207C-6073-400C-B394-87CE3F8DE256.npz', 'AA2C04EF-195F-4123-9964-6457BB6C5D1A.gui', 'AA2C04EF-195F-4123-9964-6457BB6C5D1A.npz', 'AB429DBE-7403-47E8-962D-2CD7D67EC634.gui', 'AB429DBE-7403-47E8-962D-2CD7D67EC634.npz', 'ABE237C5-2A4B-4098-A12C-A5568F581242.gui', 'ABE237C5-2A4B-4098-A12C-A5568F581242.npz', 'ADDDE8C9-3742-4EEC-97F6-80618E49AD82.gui', 'ADDDE8C9-3742-4EEC-97F6-80618E49AD82.npz', 'AE0E4847-8D79-4175-8C5E-532F770F3A42.gui', 'AE0E4847-8D79-4175-8C5E-532F770F3A42.npz', 'AE27F1EA-F1F7-4B6F-B409-CF0F5F98794D.gui', 'AE27F1EA-F1F7-4B6F-B409-CF0F5F98794D.npz', 'AE72EE4A-9214-48EA-A977-9568608E29A1.gui', 'AE72EE4A-9214-48EA-A977-9568608E29A1.npz', 'AEF3CC35-58A1-43D5-A968-4F013DAE4181.gui', 'AEF3CC35-58A1-43D5-A968-4F013DAE4181.npz', 'AFC25F8A-D23B-4BDD-9BAF-C1BC6C101C5A.gui', 'AFC25F8A-D23B-4BDD-9BAF-C1BC6C101C5A.npz', 'B4DA4FC0-1DE8-41F4-A5F0-DD25B8502CAE.gui', 'B4DA4FC0-1DE8-41F4-A5F0-DD25B8502CAE.npz', 'BA6BE317-E026-475F-BEAD-0A8BD2DB4D24.gui', 'BA6BE317-E026-475F-BEAD-0A8BD2DB4D24.npz', 'BB7696A2-926E-42CD-857C-AFA075A54CE8.gui', 'BB7696A2-926E-42CD-857C-AFA075A54CE8.npz', 'BCEEF187-38C3-4AD0-9973-EC353703146B.gui', 'BCEEF187-38C3-4AD0-9973-EC353703146B.npz', 'BD02EE75-6ECC-40B8-92E5-9DBAEC57593D.gui', 'BD02EE75-6ECC-40B8-92E5-9DBAEC57593D.npz', 'BD715F1F-4494-4A0C-8875-4334052D699B.gui', 'BD715F1F-4494-4A0C-8875-4334052D699B.npz', 'BDADAED6-B1B1-4128-A51A-32963C5BA9A3.gui', 'BDADAED6-B1B1-4128-A51A-32963C5BA9A3.npz', 'BEA2DB3E-E497-4FF9-8B0D-CA087565B8EF.gui', 'BEA2DB3E-E497-4FF9-8B0D-CA087565B8EF.npz', 'BEC03698-BD14-40DD-A024-4FC8F74FB675.gui', 'BEC03698-BD14-40DD-A024-4FC8F74FB675.npz', 'BEEA2FA6-868E-4EB9-852B-732E1F753197.gui', 'BEEA2FA6-868E-4EB9-852B-732E1F753197.npz', 'C0C22813-4C94-4DA1-85FF-9D01E9253038.gui', 'C0C22813-4C94-4DA1-85FF-9D01E9253038.npz', 'C12CF7D2-78F8-492D-8C96-D6DB30C78806.gui', 'C12CF7D2-78F8-492D-8C96-D6DB30C78806.npz', 'C51557A2-D2AE-4511-B9C5-6F2146BABA96.gui', 'C51557A2-D2AE-4511-B9C5-6F2146BABA96.npz', 'C5C88B84-CDB3-47B0-BCA8-249EBD31BE07.gui', 'C5C88B84-CDB3-47B0-BCA8-249EBD31BE07.npz', 'C6A6992D-B827-4BD4-AFA8-C41A10B58F39.gui', 'C6A6992D-B827-4BD4-AFA8-C41A10B58F39.npz', 'C72BD6A7-03A9-4028-9827-9270E26D701B.gui', 'C72BD6A7-03A9-4028-9827-9270E26D701B.npz', 'C7BBB88F-07AA-4431-A747-394491FE8938.gui', 'C7BBB88F-07AA-4431-A747-394491FE8938.npz', 'C9ACC161-C2B7-45FB-BC35-D792F381525A.gui', 'C9ACC161-C2B7-45FB-BC35-D792F381525A.npz', 'CD49494E-2C5D-485E-8BB5-407EFD9B2637.gui', 'CD49494E-2C5D-485E-8BB5-407EFD9B2637.npz', 'CEEDA83F-2552-4927-902A-46BB11699FD8.gui', 'CEEDA83F-2552-4927-902A-46BB11699FD8.npz', 'CFFE97E1-D94B-4A62-ABAD-660BFAC383D8.gui', 'CFFE97E1-D94B-4A62-ABAD-660BFAC383D8.npz', 'D16F33F6-138F-43BC-958B-E95824909F09.gui', 'D16F33F6-138F-43BC-958B-E95824909F09.npz', 'D27CE468-049D-40DA-A353-150A13221B17.gui', 'D27CE468-049D-40DA-A353-150A13221B17.npz', 'D36E4D10-7190-44E2-8804-40A9CAC9DECD.gui', 'D36E4D10-7190-44E2-8804-40A9CAC9DECD.npz', 'D44ABBE1-CD0D-451F-9CA3-B19F9947DA11.gui', 'D44ABBE1-CD0D-451F-9CA3-B19F9947DA11.npz', 'D5F2465B-F019-4CCD-A040-FF561EF5AC7B.gui', 'D5F2465B-F019-4CCD-A040-FF561EF5AC7B.npz', 'D6659378-797D-49DD-B8E6-A2B5B0C70049.gui', 'D6659378-797D-49DD-B8E6-A2B5B0C70049.npz', 'D68EAA47-D031-42D4-876A-370EAA5DE925.gui', 'D68EAA47-D031-42D4-876A-370EAA5DE925.npz', 'D73C1938-477B-4167-9D73-40BF4476B6A3.gui', 'D73C1938-477B-4167-9D73-40BF4476B6A3.npz', 'D7EB6F71-E47B-4861-B45A-A797735DAFF2.gui', 'D7EB6F71-E47B-4861-B45A-A797735DAFF2.npz', 'D8FCA0C7-E94F-4530-8D90-E2DFE221617E.gui', 'D8FCA0C7-E94F-4530-8D90-E2DFE221617E.npz', 'DA2855F0-1879-4D32-9F18-3E2ACC9439A9.gui', 'DA2855F0-1879-4D32-9F18-3E2ACC9439A9.npz', 'DA769639-501C-466A-8567-06A37E790FA7.gui', 'DA769639-501C-466A-8567-06A37E790FA7.npz', 'DAEE9331-61C6-4BFC-B16C-E6881B0E9681.gui', 'DAEE9331-61C6-4BFC-B16C-E6881B0E9681.npz', 'DC0ADA53-7AD5-4B1F-8937-EDA7DE2CADE0.gui', 'DC0ADA53-7AD5-4B1F-8937-EDA7DE2CADE0.npz', 'DC5A23A5-9839-442E-A52E-58E445F3FD2C.gui', 'DC5A23A5-9839-442E-A52E-58E445F3FD2C.npz', 'DC8605A5-5D6F-422A-9D74-C1FD11ECB836.gui', 'DC8605A5-5D6F-422A-9D74-C1FD11ECB836.npz', 'DE9B1558-4339-4560-9B52-523131E1649E.gui', 'DE9B1558-4339-4560-9B52-523131E1649E.npz', 'DEB2C67E-BC31-400E-9171-27C510181B54.gui', 'DEB2C67E-BC31-400E-9171-27C510181B54.npz', 'DF8F2017-1355-49DB-B86E-77397CD02B65.gui', 'DF8F2017-1355-49DB-B86E-77397CD02B65.npz', 'DFCFCB41-BCB6-4EFE-B6EC-6499C6B1CF82.gui', 'DFCFCB41-BCB6-4EFE-B6EC-6499C6B1CF82.npz', 'E33FBC33-5C94-4BA2-A9BC-140588E186DB.gui', 'E33FBC33-5C94-4BA2-A9BC-140588E186DB.npz', 'E52E4282-CF21-47C7-9079-F8E5896DF7E0.gui', 'E52E4282-CF21-47C7-9079-F8E5896DF7E0.npz', 'E6D4B7D6-2DB2-4D21-8C57-D0F2846115A9.gui', 'E6D4B7D6-2DB2-4D21-8C57-D0F2846115A9.npz', 'E8AB6AFD-18AC-42B3-B9C7-8A2553C90D2A.gui', 'E8AB6AFD-18AC-42B3-B9C7-8A2553C90D2A.npz', 'E8CAF61E-985E-4937-B476-4A038DB1FC75.gui', 'E8CAF61E-985E-4937-B476-4A038DB1FC75.npz', 'E9E92402-C3F6-444E-9E66-A5F1EF4D52DC.gui', 'E9E92402-C3F6-444E-9E66-A5F1EF4D52DC.npz', 'E9F2F9E1-2161-4256-AB66-3895BB83A05E.gui', 'E9F2F9E1-2161-4256-AB66-3895BB83A05E.npz', 'EAB35589-CD1C-4625-9EE1-D87DC52E999B.gui', 'EAB35589-CD1C-4625-9EE1-D87DC52E999B.npz', 'EADBEFEC-26A2-4AB6-8143-187B1D416A0E.gui', 'EADBEFEC-26A2-4AB6-8143-187B1D416A0E.npz', 'EB2D38C7-A3C5-4B5E-B5E6-CC74F523B42B.gui', 'EB2D38C7-A3C5-4B5E-B5E6-CC74F523B42B.npz', 'EB340C20-7BED-4CB8-886D-0A1CA6EB3262.gui', 'EB340C20-7BED-4CB8-886D-0A1CA6EB3262.npz', 'EDB24170-783D-4740-8DDC-59F292608802.gui', 'EDB24170-783D-4740-8DDC-59F292608802.npz', 'EDF535A2-7E52-45ED-89D8-A7AFF455E4AC.gui', 'EDF535A2-7E52-45ED-89D8-A7AFF455E4AC.npz', 'F1850A54-183B-4784-8441-1E9D9F16E332.gui', 'F1850A54-183B-4784-8441-1E9D9F16E332.npz', 'F213E610-E368-4B51-B6F7-C0C0AB889784.gui', 'F213E610-E368-4B51-B6F7-C0C0AB889784.npz', 'F2B267A0-36BA-49DF-83AE-3C735BBE7774.gui', 'F2B267A0-36BA-49DF-83AE-3C735BBE7774.npz', 'F45323B1-EAA1-4971-B430-6265C249752B.gui', 'F45323B1-EAA1-4971-B430-6265C249752B.npz', 'F4B7F7E7-3FF1-4133-A041-5E4863C91BAC.gui', 'F4B7F7E7-3FF1-4133-A041-5E4863C91BAC.npz', 'F5B08353-25D0-47D0-847A-59EEFE78993F.gui', 'F5B08353-25D0-47D0-847A-59EEFE78993F.npz', 'F851CA55-2C9B-49A5-966F-3CF5A761879E.gui', 'F851CA55-2C9B-49A5-966F-3CF5A761879E.npz', 'F8755290-18E6-417D-AB35-5D103B58934E.gui', 'F8755290-18E6-417D-AB35-5D103B58934E.npz', 'F97349D8-69A7-476F-9894-719C458F8486.gui', 'F97349D8-69A7-476F-9894-719C458F8486.npz', 'F9E88F2A-5270-4CFC-96CF-A6AF7D8D40FE.gui', 'F9E88F2A-5270-4CFC-96CF-A6AF7D8D40FE.npz', 'F9EA7683-2309-4C61-992C-58616F3D3D82.gui', 'F9EA7683-2309-4C61-992C-58616F3D3D82.npz', 'FAD962F2-28DC-4A70-9A78-2707C0A0FB12.gui', 'FAD962F2-28DC-4A70-9A78-2707C0A0FB12.npz', 'FBF96431-3CFF-4168-BBBF-E0682A0728AB.gui', 'FBF96431-3CFF-4168-BBBF-E0682A0728AB.npz', 'FC8B05C3-E3A6-43DE-AEEB-6DBBAC019B44.gui', 'FC8B05C3-E3A6-43DE-AEEB-6DBBAC019B44.npz', 'FD6D3FB2-C8DA-4F4F-AEAA-AB0D7A4247F4.gui', 'FD6D3FB2-C8DA-4F4F-AEAA-AB0D7A4247F4.npz', 'FDF12CF5-A344-4573-A239-78AE47DBEE78.gui', 'FDF12CF5-A344-4573-A239-78AE47DBEE78.npz', 'FEF248A4-868E-4A6C-94D6-9B38A67974F0.gui', 'FEF248A4-868E-4A6C-94D6-9B38A67974F0.npz']\n"
     ]
    }
   ],
   "source": [
    "dir_name = 'resources/testdata/'\n",
    "train_features, texts = load_data(dir_name)"
   ]
  },
  {
   "cell_type": "code",
   "execution_count": 39,
   "metadata": {},
   "outputs": [
    {
     "name": "stdout",
     "output_type": "stream",
     "text": [
      "Loaded model from disk\n"
     ]
    }
   ],
   "source": [
    "#load model and weights \n",
    "json_file = open('../../../emilwallner-datasets-imagetocode-2/model.json', 'r')\n",
    "loaded_model_json = json_file.read()\n",
    "json_file.close()\n",
    "loaded_model = model_from_json(loaded_model_json)\n",
    "# load weights into new model\n",
    "loaded_model.load_weights(\"../../../emilwallner-datasets-imagetocode-2/weights.h5\")\n",
    "print(\"Loaded model from disk\")"
   ]
  },
  {
   "cell_type": "code",
   "execution_count": 40,
   "metadata": {
    "collapsed": false
   },
   "outputs": [
    {
     "name": "stdout",
     "output_type": "stream",
     "text": [
      "single\n"
     ]
    }
   ],
   "source": [
    "# map an integer to a word\n",
    "def word_for_id(integer, tokenizer):\n",
    "    for word, index in tokenizer.word_index.items():\n",
    "        if index == integer:\n",
    "            return word\n",
    "    return None\n",
    "print(word_for_id(17, tokenizer))"
   ]
  },
  {
   "cell_type": "code",
   "execution_count": 41,
   "metadata": {},
   "outputs": [],
   "source": [
    "# generate a description for an image\n",
    "def generate_desc(model, tokenizer, photo, max_length):\n",
    "    photo = np.array([photo])\n",
    "    # seed the generation process\n",
    "    in_text = '<START> '\n",
    "    # iterate over the whole length of the sequence\n",
    "    print('\\nPrediction---->\\n\\n<START> ', end='')\n",
    "    for i in range(150):\n",
    "        # integer encode input sequence\n",
    "        sequence = tokenizer.texts_to_sequences([in_text])[0]\n",
    "        # pad input\n",
    "        sequence = pad_sequences([sequence], maxlen=max_length)\n",
    "        # predict next word\n",
    "        yhat = loaded_model.predict([photo, sequence], verbose=0)\n",
    "        # convert probability to integer\n",
    "        yhat = np.argmax(yhat)\n",
    "        # map integer to word\n",
    "        word = word_for_id(yhat, tokenizer)\n",
    "        # stop if we cannot map the word\n",
    "        if word is None:\n",
    "            break\n",
    "        # append as input for generating the next word\n",
    "        in_text += word + ' '\n",
    "        # stop if we predict the end of the sequence\n",
    "        print(word + ' ', end='')\n",
    "        if word == '<END>':\n",
    "            break\n",
    "    return in_text"
   ]
  },
  {
   "cell_type": "code",
   "execution_count": 42,
   "metadata": {
    "collapsed": false
   },
   "outputs": [
    {
     "name": "stdout",
     "output_type": "stream",
     "text": [
      "1\n",
      "\n",
      "Prediction---->\n",
      "\n",
      "<START> header { btn-active , btn-inactive , btn-inactive , btn-inactive } row { double { small-title , text , btn-green } double { small-title , text , btn-green } } row { single { small-title , text , btn-orange } } row { quadruple { small-title , text , btn-red } quadruple { small-title , text , btn-red } quadruple { small-title , text , btn-red } quadruple { small-title , text , btn-orange } } <END> \n",
      "\n",
      "Real---->\n",
      "\n",
      "<START> header { btn-active , btn-inactive , btn-inactive , btn-inactive } row { double { small-title , text , btn-green } double { small-title , text , btn-green } } row { single { small-title , text , btn-green } } row { quadruple { small-title , text , btn-orange } quadruple { small-title , text , btn-orange } quadruple { small-title , text , btn-orange } quadruple { small-title , text , btn-red } } <END>\n"
     ]
    }
   ],
   "source": [
    "max_length = 48 \n",
    "# evaluate the skill of the model\n",
    "def evaluate_model(model, descriptions, photos, tokenizer, max_length):\n",
    "    actual, predicted = list(), list()\n",
    "    # step over the whole set\n",
    "    print(len(texts))\n",
    "    for i in range(len(texts)):\n",
    "        yhat = generate_desc(model, tokenizer, photos[i], max_length)\n",
    "        # store actual and predicted\n",
    "        print('\\n\\nReal---->\\n\\n' + texts[i])\n",
    "        actual.append([texts[i].split()])\n",
    "        predicted.append(yhat.split())\n",
    "    # calculate BLEU score\n",
    "    bleu = corpus_bleu(actual, predicted)\n",
    "    return bleu, actual, predicted\n",
    "\n",
    "bleu, actual, predicted = evaluate_model(loaded_model, texts, train_features, tokenizer, max_length)"
   ]
  },
  {
   "cell_type": "code",
   "execution_count": 43,
   "metadata": {},
   "outputs": [],
   "source": [
    "#Compile the tokens into HTML and css\n",
    "dsl_path = \"compiler/assets/web-dsl-mapping.json\"\n",
    "compiler = Compiler(dsl_path)\n",
    "compiled_website = compiler.compile(predicted[0], 'test0.html')"
   ]
  },
  {
   "cell_type": "code",
   "execution_count": 44,
   "metadata": {
    "collapsed": true
   },
   "outputs": [
    {
     "name": "stdout",
     "output_type": "stream",
     "text": [
      "<html>\n",
      "  <header>\n",
      "    <meta charset=\"utf-8\">\n",
      "    <meta name=\"viewport\" content=\"width=device-width, initial-scale=1\">\n",
      "    <link rel=\"stylesheet\" href=\"https://maxcdn.bootstrapcdn.com/bootstrap/3.3.7/css/bootstrap.min.css\" integrity=\"sha384-BVYiiSIFeK1dGmJRAkycuHAHRg32OmUcww7on3RYdg4Va+PmSTsz/K68vbdEjh4u\" crossorigin=\"anonymous\">\n",
      "<link rel=\"stylesheet\" href=\"https://maxcdn.bootstrapcdn.com/bootstrap/3.3.7/css/bootstrap-theme.min.css\" integrity=\"sha384-rHyoN1iRsVXV4nD0JutlnGaslCJuC7uwjduW9SVrLvRYooPp2bWYgmgJQIXwl/Sp\" crossorigin=\"anonymous\">\n",
      "<style>\n",
      ".header{margin:20px 0}nav ul.nav-pills li{background-color:#333;border-radius:4px;margin-right:10px}.col-lg-3{width:24%;margin-right:1.333333%}.col-lg-6{width:49%;margin-right:2%}.col-lg-12,.col-lg-3,.col-lg-6{margin-bottom:20px;border-radius:6px;background-color:#f5f5f5;padding:20px}.row .col-lg-3:last-child,.row .col-lg-6:last-child{margin-right:0}footer{padding:20px 0;text-align:center;border-top:1px solid #bbb}\n",
      "</style>\n",
      "    <title>Scaffold</title>\n",
      "  </header>\n",
      "  <body>\n",
      "    <main class=\"container\">\n",
      "      <div class=\"header clearfix\">\n",
      "  <nav>\n",
      "    <ul class=\"nav nav-pills pull-left\">\n",
      "      <li class=\"active\"><a href=\"#\">Sfvz Zlaye</a></li>\n",
      "<li><a href=\"#\">Vacauge Ev</a></li>\n",
      "<li><a href=\"#\">Jee Evnyxx</a></li>\n",
      "<li><a href=\"#\">Ityx Xsizi</a></li>\n",
      "\n",
      "    </ul>\n",
      "  </nav>\n",
      "</div>\n",
      "<div class=\"row\"><div class=\"col-lg-6\">\n",
      "<h4>Upaqg</h4><p>iutbl wqsi vg pxkjm jnpnhnaeycs vfb f gyxcfpbggxtiqqnvlo</p>\n",
      "<a class=\"btn btn-success\" href=\"#\" role=\"button\">Icz Zrvore</a>\n",
      "\n",
      "</div>\n",
      "<div class=\"col-lg-6\">\n",
      "<h4>Aeyok</h4><p>eldgzjhbytuuydl nfqrbqiqilvgyho otfccyfqsumvki k fxnldri</p>\n",
      "<a class=\"btn btn-success\" href=\"#\" role=\"button\">Gclg Gyket</a>\n",
      "\n",
      "</div>\n",
      "</div>\n",
      "<div class=\"row\"><div class=\"col-lg-12\">\n",
      "<h4>Wzpsk</h4><p>iglqzr zgdnamuqbgztdm  egeleembgzxnb pamg  cmj alxjakdrn</p>\n",
      "<a class=\"btn btn-warning\" href=\"#\" role=\"button\">Etdabz Zwf</a>\n",
      "\n",
      "</div>\n",
      "</div>\n",
      "<div class=\"row\"><div class=\"col-lg-3\">\n",
      "<h4>Jtfgs</h4><p>jqwxcrc rqztkkjqfch jgyxp dvuc zovylkm kqrpkhuw ufsie yx</p>\n",
      "<a class=\"btn btn-danger\" href=\"#\" role=\"button\">Ndgkf Fmdz</a>\n",
      "</div>\n",
      "<div class=\"col-lg-3\">\n",
      "<h4>Vhukk</h4><p>oclt rhwmqo j dddmag xbykzutamsflj  hqhq rmkjrrcjwojqtox</p>\n",
      "<a class=\"btn btn-danger\" href=\"#\" role=\"button\">Joclbx Xga</a>\n",
      "</div>\n",
      "<div class=\"col-lg-3\">\n",
      "<h4>Jmjqo</h4><p>hjeieiqhkutsfhx z erzt lqfcwlzhxkhnjyqhpldiy lvg  u ghnj</p>\n",
      "<a class=\"btn btn-danger\" href=\"#\" role=\"button\">Gaatwf Fqu</a>\n",
      "</div>\n",
      "<div class=\"col-lg-3\">\n",
      "<h4>Jappt</h4><p>hufglisfbbaqkrmaclbylawxb tj tdodnbfwtknqmu  ajfvfafuluk</p>\n",
      "<a class=\"btn btn-warning\" href=\"#\" role=\"button\">Szmvfi Iyu</a>\n",
      "\n",
      "</div>\n",
      "</div>\n",
      "\n",
      "      <footer class=\"footer\">\n",
      "        <p>&copy; Tony Beltramelli 2017</p>\n",
      "      </footer>\n",
      "    </main>\n",
      "    <script src=\"js/jquery.min.js\"></script>\n",
      "    <script src=\"js/bootstrap.min.js\"></script>\n",
      "  </body>\n",
      "</html>\n",
      "\n"
     ]
    }
   ],
   "source": [
    "print(compiled_website )"
   ]
  },
  {
   "cell_type": "code",
   "execution_count": 45,
   "metadata": {},
   "outputs": [
    {
     "name": "stdout",
     "output_type": "stream",
     "text": [
      "0.9007886622213419\n"
     ]
    }
   ],
   "source": [
    "print(bleu)"
   ]
  }
 ],
 "metadata": {
  "kernelspec": {
   "display_name": "Python 3",
   "language": "python",
   "name": "python3"
  },
  "language_info": {
   "codemirror_mode": {
    "name": "ipython",
    "version": 3.0
   },
   "file_extension": ".py",
   "mimetype": "text/x-python",
   "name": "python",
   "nbconvert_exporter": "python",
   "pygments_lexer": "ipython3",
   "version": "3.4.4"
  }
 },
 "nbformat": 4,
 "nbformat_minor": 0
}